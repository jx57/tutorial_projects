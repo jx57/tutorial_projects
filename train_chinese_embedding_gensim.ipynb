{
 "cells": [
  {
   "cell_type": "code",
   "execution_count": 1,
   "metadata": {
    "collapsed": true
   },
   "outputs": [],
   "source": [
    "import jieba\n",
    "import fasttext\n",
    "import gensim\n",
    "import time"
   ]
  },
  {
   "cell_type": "markdown",
   "metadata": {},
   "source": [
    "# 建立自己的词向量，推荐 fastText，速度快\n",
    "*  第一步是清理数据，这里只保留了字母和汉字。\n",
    "*  第二步是用 fasttext 训练，就一行代码。得到一个字典文件，可以用 text 打开看看。\n",
    "*  第三步也是一行代码，用 gensim 倒入训练好的词向量"
   ]
  },
  {
   "cell_type": "markdown",
   "metadata": {},
   "source": [
    "## 清理数据"
   ]
  },
  {
   "cell_type": "code",
   "execution_count": 2,
   "metadata": {
    "collapsed": true
   },
   "outputs": [],
   "source": [
    "def is_alpha(seg): #全部是字母 \n",
    "    try:\n",
    "        return seg.encode('ascii').isalpha() # ascii 转换 \n",
    "    except:\n",
    "        return False\n",
    "\n",
    "def is_all_chinese(seg): #全部是中文\n",
    "    for c in seg:\n",
    "        if not('\\u4e00' <= seg <= '\\u9fff'):\n",
    "            return False\n",
    "    return True\n",
    "    \n",
    "def text_to_parsed_text(text):\n",
    "    '''\n",
    "    :param text: a text string \"今天天气很好。明天天气如何\\n\"\n",
    "    :return: parse and add a space in between. \"今天天气 很 好 明天 天气 如何\"\n",
    "    '''\n",
    "    res =[]\n",
    "    \n",
    "    if isinstance(text, str) and len(text) > 0:\n",
    "        seg_list = jieba.cut(text)\n",
    "    \n",
    "    for i in seg_list:\n",
    "        if i.isdigit() or is_all_chinese(i):\n",
    "            res.append(i)\n",
    "    return \" \".join(res)"
   ]
  },
  {
   "cell_type": "code",
   "execution_count": 6,
   "metadata": {},
   "outputs": [
    {
     "data": {
      "text/plain": [
       "'今天天气 很 好 明天 天气 如何'"
      ]
     },
     "execution_count": 6,
     "metadata": {},
     "output_type": "execute_result"
    }
   ],
   "source": [
    "sent= \"今天天气很好。明天天气如何\\n\"\n",
    "text_to_parsed_text(sent)"
   ]
  },
  {
   "cell_type": "markdown",
   "metadata": {},
   "source": [
    "## 训练词向量模型"
   ]
  },
  {
   "cell_type": "code",
   "execution_count": null,
   "metadata": {},
   "outputs": [],
   "source": [
    "#训练一个 cbow 模型， 会得到两个文件 chinese_fasttext_model.vec 和 chinese_fasttext_model.bin\n",
    "model = fasttext.cbow('data_for_embedding/chinese_parsed_5w_only.txt', 'data_for_embedding/chinese_fasttext_model',\n",
    "                      lr=0.05, dim=300)  "
   ]
  },
  {
   "cell_type": "code",
   "execution_count": null,
   "metadata": {
    "collapsed": true
   },
   "outputs": [],
   "source": [
    "len(model.words) #查看你的模型里面的词数"
   ]
  },
  {
   "cell_type": "markdown",
   "metadata": {},
   "source": [
    "## 载入词向量模型"
   ]
  },
  {
   "cell_type": "code",
   "execution_count": null,
   "metadata": {
    "collapsed": true
   },
   "outputs": [],
   "source": [
    "#用 gensim 载入上一步训练好的 fasttext 模型\n",
    "chinese_w2v = gensim.models.KeyedVectors.load_word2vec_format('data_for_embedding/chinese_fasttext_model.vec')"
   ]
  },
  {
   "cell_type": "code",
   "execution_count": null,
   "metadata": {
    "collapsed": true
   },
   "outputs": [],
   "source": [
    "#查看 topn 个相似词\n",
    "chinese_w2v.most_similar(positive=['制药'],topn=10) "
   ]
  }
 ],
 "metadata": {
  "kernelspec": {
   "display_name": "Python 3",
   "language": "python",
   "name": "python3"
  },
  "language_info": {
   "codemirror_mode": {
    "name": "ipython",
    "version": 3
   },
   "file_extension": ".py",
   "mimetype": "text/x-python",
   "name": "python",
   "nbconvert_exporter": "python",
   "pygments_lexer": "ipython3",
   "version": "3.6.4"
  }
 },
 "nbformat": 4,
 "nbformat_minor": 2
}
